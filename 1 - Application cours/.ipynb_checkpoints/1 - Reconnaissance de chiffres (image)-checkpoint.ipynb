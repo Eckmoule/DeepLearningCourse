{
 "cells": [
  {
   "cell_type": "raw",
   "metadata": {},
   "source": [
    "On charge la librairie"
   ]
  },
  {
   "cell_type": "code",
   "execution_count": 2,
   "metadata": {},
   "outputs": [],
   "source": [
    "from fastai2.vision.all import *"
   ]
  },
  {
   "cell_type": "raw",
   "metadata": {},
   "source": [
    "On charge les informations contenues dans le dossier mnist_sample. Il contient des données d'entrainement et de validations représantant des 3 et des 7"
   ]
  },
  {
   "cell_type": "code",
   "execution_count": 3,
   "metadata": {},
   "outputs": [],
   "source": [
    "path = Path('/storage/data/mnist_sample')"
   ]
  },
  {
   "cell_type": "raw",
   "metadata": {},
   "source": [
    "On applique la fonction ls() qui permet de lister les fichiers se trouvant dans le dossier (ici /train/3). La méthode sorted() permet de les trier dans l'ordre alphabétique. "
   ]
  },
  {
   "cell_type": "code",
   "execution_count": 4,
   "metadata": {},
   "outputs": [],
   "source": [
    "threes = (path/'train'/'3').ls().sorted()"
   ]
  },
  {
   "cell_type": "raw",
   "metadata": {},
   "source": [
    "On peut afficher une image pour l'exemple"
   ]
  },
  {
   "cell_type": "code",
   "execution_count": 5,
   "metadata": {},
   "outputs": [
    {
     "data": {
      "image/png": "[encoded data removed]",
      "text/plain": [
       "<PIL.PngImagePlugin.PngImageFile image mode=L size=28x28 at 0x7F8427C0BF10>"
      ]
     },
     "execution_count": 5,
     "metadata": {},
     "output_type": "execute_result"
    }
   ],
   "source": [
    "Image.open(threes[0])"
   ]
  },
  {
   "cell_type": "raw",
   "metadata": {},
   "source": [
    "On transforme notre image en tableau de nombre (à plusieurs dimension). L'objet tensor va permettre de transformer l'image en tableau de pixel (0-255) niveaux de gris. On a donc un tableau de 28 par 28 pixel et pour chaque entrée un nombre entre 0 et 255 représentant le \"niveau de gris\". "
   ]
  },
  {
   "cell_type": "code",
   "execution_count": 6,
   "metadata": {},
   "outputs": [],
   "source": [
    "image = Image.open(threes[1])\n",
    "im3_t = tensor(image)"
   ]
  },
  {
   "cell_type": "raw",
   "metadata": {},
   "source": [
    "Il est possible de manipuler le tableau ainsi rendu. Par exemple ici on affiche le résultat des lignes 3 à 9 et des colonnes 3 à 9"
   ]
  },
  {
   "cell_type": "code",
   "execution_count": 7,
   "metadata": {},
   "outputs": [
    {
     "data": {
      "text/plain": [
       "tensor([[  0,   0,   0,   0,   0,   0],\n",
       "        [  0,   0,   0,   0,   0,  29],\n",
       "        [  0,   0,   0,  48, 166, 224],\n",
       "        [  0,  93, 244, 249, 253, 187],\n",
       "        [  0, 107, 253, 253, 230,  48],\n",
       "        [  0,   3,  20,  20,  15,   0]], dtype=torch.uint8)"
      ]
     },
     "execution_count": 7,
     "metadata": {},
     "output_type": "execute_result"
    }
   ],
   "source": [
    "im3_t[4:10,4:10]"
   ]
  },
  {
   "cell_type": "raw",
   "metadata": {},
   "source": [
    "Pour réaliser nos tests nous allons charger de cette manière l'ensemble des images dont les chemins ont été stockés dans la variable threes (point 3). "
   ]
  },
  {
   "cell_type": "code",
   "execution_count": 12,
   "metadata": {},
   "outputs": [],
   "source": [
    "three_tensor = [tensor(Image.open(o)) for o in threes]"
   ]
  },
  {
   "cell_type": "raw",
   "metadata": {},
   "source": [
    "J'obtiens donc une liste de 6131 objets tensor. Chaque objet est un tableau de 28 par 28"
   ]
  },
  {
   "cell_type": "code",
   "execution_count": 10,
   "metadata": {},
   "outputs": [
    {
     "data": {
      "text/plain": [
       "(list, 6131, torch.Tensor, torch.Size([28, 28]))"
      ]
     },
     "execution_count": 10,
     "metadata": {},
     "output_type": "execute_result"
    }
   ],
   "source": [
    "type(three_tensor), len(three_tensor), type(three_tensor[0]),three_tensor[0].shape "
   ]
  },
  {
   "cell_type": "raw",
   "metadata": {},
   "source": [
    "Je cherches à regrouper l'ensemble de mes exemples (6131 ici) dans un seul tableau. Le fait de stocker l'ensemble des données dans un seul tensor va permettre d'éxécuter des opérations de manière parallèle (et efficace) pour gagner du temps. \n",
    "On en profite également pour ramener les valeures comprises en 0 et 255 à leurs équivalent entre 0 et 1 pour plus de simplicité dans les calculs. "
   ]
  },
  {
   "cell_type": "code",
   "execution_count": 13,
   "metadata": {},
   "outputs": [
    {
     "data": {
      "text/plain": [
       "torch.Size([6131, 28, 28])"
      ]
     },
     "execution_count": 13,
     "metadata": {},
     "output_type": "execute_result"
    }
   ],
   "source": [
    "stacked_threes = torch.stack(three_tensor).float()/255\n",
    "stacked_threes.shape"
   ]
  },
  {
   "cell_type": "code",
   "execution_count": 14,
   "metadata": {},
   "outputs": [
    {
     "data": {
      "text/plain": [
       "tensor([[0.0000, 0.0000, 0.0000, 0.0000, 0.0000, 0.0000],\n",
       "        [0.0000, 0.0000, 0.0000, 0.0000, 0.0000, 0.1137],\n",
       "        [0.0000, 0.0000, 0.0000, 0.1882, 0.6510, 0.8784],\n",
       "        [0.0000, 0.3647, 0.9569, 0.9765, 0.9922, 0.7333],\n",
       "        [0.0000, 0.4196, 0.9922, 0.9922, 0.9020, 0.1882],\n",
       "        [0.0000, 0.0118, 0.0784, 0.0784, 0.0588, 0.0000]])"
      ]
     },
     "execution_count": 14,
     "metadata": {},
     "output_type": "execute_result"
    }
   ],
   "source": [
    "stacked_threes[1,4:10,4:10]"
   ]
  },
  {
   "cell_type": "raw",
   "metadata": {},
   "source": [
    "On fait la même chose pour les 7"
   ]
  },
  {
   "cell_type": "code",
   "execution_count": 15,
   "metadata": {},
   "outputs": [],
   "source": [
    "path = Path('/storage/data/mnist_sample')\n",
    "sevens = (path/'train'/'7').ls().sorted()\n",
    "seven_tensor = [tensor(Image.open(o)) for o in sevens]\n",
    "stacked_sevens = torch.stack(seven_tensor).float()/255"
   ]
  },
  {
   "cell_type": "raw",
   "metadata": {},
   "source": [
    "On concatene toutes les images de trois et de sept dans le même tableau. D'abords tout les 3 puis tout les 7. "
   ]
  },
  {
   "cell_type": "code",
   "execution_count": 16,
   "metadata": {},
   "outputs": [
    {
     "data": {
      "text/plain": [
       "torch.Size([12396, 28, 28])"
      ]
     },
     "execution_count": 16,
     "metadata": {},
     "output_type": "execute_result"
    }
   ],
   "source": [
    "stacked_digits = torch.cat([stacked_threes, stacked_sevens])\n",
    "stacked_digits.shape"
   ]
  },
  {
   "cell_type": "raw",
   "metadata": {},
   "source": [
    "Au lieu d'avoir un tableau de 28 par 28 pour les pixels on préfère travailler avec une liste de chiffres mis bout à bout (784 du coup). "
   ]
  },
  {
   "cell_type": "code",
   "execution_count": 17,
   "metadata": {},
   "outputs": [
    {
     "data": {
      "text/plain": [
       "torch.Size([12396, 784])"
      ]
     },
     "execution_count": 17,
     "metadata": {},
     "output_type": "execute_result"
    }
   ],
   "source": [
    "train_x = stacked_digits.view(-1, 28*28)\n",
    "train_x.shape"
   ]
  },
  {
   "cell_type": "raw",
   "metadata": {},
   "source": [
    "On crée une liste de labels (3 ou 7) pour savoir à quoi chaque element correspond. Ici on positionne les labels 0 ou 1 car on cherche à savoir si l'image est un trois ou pas (un sept). \n",
    "Les x premiers element de mon tableau sont des trois et les y suivant sont des septs. x valant le nombre de trois dans mon jeux d'entrainement"
   ]
  },
  {
   "cell_type": "code",
   "execution_count": 18,
   "metadata": {},
   "outputs": [
    {
     "data": {
      "text/plain": [
       "torch.Size([12396])"
      ]
     },
     "execution_count": 18,
     "metadata": {},
     "output_type": "execute_result"
    }
   ],
   "source": [
    "stacked_labels = tensor([1]*len(threes) + [0]*len(sevens))\n",
    "stacked_labels.shape"
   ]
  },
  {
   "cell_type": "raw",
   "metadata": {},
   "source": [
    "On rajoute un axe pour simplifier l'accès au données label. (pas bien compris il semble qu'au lieu d'avoir un tableau de 0 ou 1 on a un tableau de tableau de 0 ou 1 ?)"
   ]
  },
  {
   "cell_type": "code",
   "execution_count": 19,
   "metadata": {},
   "outputs": [
    {
     "data": {
      "text/plain": [
       "(tensor(1), tensor([1]))"
      ]
     },
     "execution_count": 19,
     "metadata": {},
     "output_type": "execute_result"
    }
   ],
   "source": [
    "train_y = stacked_labels.unsqueeze(1)\n",
    "stacked_labels[0],train_y[0]"
   ]
  },
  {
   "cell_type": "raw",
   "metadata": {},
   "source": [
    "A ce moment la nous avons un tableau train_x qui contient les 12396 images de 3 et 7 sous la forme d'une suite de nombres entre 0 et 1 représentant le contraste et un tableau train_y qui correspond à ce qu'il faut trouver (3 ou pas 3) pour chaque suite de nombre. "
   ]
  },
  {
   "cell_type": "code",
   "execution_count": 20,
   "metadata": {},
   "outputs": [
    {
     "data": {
      "text/plain": [
       "(torch.Size([12396, 784]), torch.Size([12396, 1]))"
      ]
     },
     "execution_count": 20,
     "metadata": {},
     "output_type": "execute_result"
    }
   ],
   "source": [
    "train_x.shape,train_y.shape"
   ]
  },
  {
   "cell_type": "raw",
   "metadata": {},
   "source": [
    "On peut appliquer des opérations sur l'ensemble des élements par exemple ici\n",
    "- On calcul le trois \"moyen\" en réalisant une moyenne pour chaque pixel de tout les éléments du tabeau \n",
    "- On calcul la \"distance\" entre une image donné et le trois moyen calculé précédement. "
   ]
  },
  {
   "cell_type": "code",
   "execution_count": 21,
   "metadata": {},
   "outputs": [
    {
     "data": {
      "text/plain": [
       "<matplotlib.axes._subplots.AxesSubplot at 0x7f842798dd10>"
      ]
     },
     "execution_count": 21,
     "metadata": {},
     "output_type": "execute_result"
    },
    {
     "data": {
      "image/png": "[encoded data removed]",
      "text/plain": [
       "<Figure size 72x72 with 1 Axes>"
      ]
     },
     "metadata": {
      "needs_background": "light"
     },
     "output_type": "display_data"
    }
   ],
   "source": [
    "mean3 = stacked_threes.mean(0)\n",
    "show_image(mean3)"
   ]
  },
  {
   "cell_type": "code",
   "execution_count": 22,
   "metadata": {},
   "outputs": [
    {
     "data": {
      "text/plain": [
       "(<matplotlib.axes._subplots.AxesSubplot at 0x7f8427177390>,\n",
       " <matplotlib.axes._subplots.AxesSubplot at 0x7f842712bf90>)"
      ]
     },
     "execution_count": 22,
     "metadata": {},
     "output_type": "execute_result"
    },
    {
     "data": {
      "image/png": "[encoded data removed]",
      "text/plain": [
       "<Figure size 72x72 with 1 Axes>"
      ]
     },
     "metadata": {
      "needs_background": "light"
     },
     "output_type": "display_data"
    },
    {
     "data": {
      "image/png": "[encoded data removed]",
      "text/plain": [
       "<Figure size 72x72 with 1 Axes>"
      ]
     },
     "metadata": {
      "needs_background": "light"
     },
     "output_type": "display_data"
    }
   ],
   "source": [
    "a_3 = stacked_threes[1]\n",
    "dist_3_abs = (a_3 - mean3).abs()\n",
    "dist_3_sqr = (a_3 - mean3)**2\n",
    "\n",
    "show_image(dist_3_abs), show_image(dist_3_sqr)\n"
   ]
  },
  {
   "cell_type": "raw",
   "metadata": {},
   "source": [
    "il est également possible d'effectuer des opérations sur l'ensemble d'un tensor. Par exemple"
   ]
  },
  {
   "cell_type": "code",
   "execution_count": 23,
   "metadata": {},
   "outputs": [
    {
     "data": {
      "text/plain": [
       "tensor([[2, 3, 4],\n",
       "        [5, 6, 7]])"
      ]
     },
     "execution_count": 23,
     "metadata": {},
     "output_type": "execute_result"
    }
   ],
   "source": [
    "tensor_example = tensor([1,2,3],[4,5,6])\n",
    "tensor_example + 1 "
   ]
  },
  {
   "cell_type": "raw",
   "metadata": {},
   "source": [
    "Cela va nous permettre de définir des fonctions que nous allons pouvoir éxécuter sur l'ensemble des objets d'un tensor. \n",
    "- On décrit une fonction de calcul de la distance (on trouve la valeur absolue de distance entre chaque pixel puis on resort la moyenne de ces distances. \n",
    "- On teste la différence entre un 3 et le 3 moyen puis entre un 7 et le 3 moyen.\n",
    "- On peut le faire sur l'ensemble de la liste d'un seul coup."
   ]
  },
  {
   "cell_type": "code",
   "execution_count": 24,
   "metadata": {},
   "outputs": [],
   "source": [
    "def mnist_distance(a,b):\n",
    "    return (a-b).abs().mean((-1,-2))"
   ]
  },
  {
   "cell_type": "code",
   "execution_count": 20,
   "metadata": {},
   "outputs": [
    {
     "data": {
      "text/plain": [
       "(tensor(0.1114), tensor(0.1854))"
      ]
     },
     "execution_count": 20,
     "metadata": {},
     "output_type": "execute_result"
    }
   ],
   "source": [
    "mnist_distance(stacked_threes[1],mean3),mnist_distance(stacked_sevens[1],mean3)"
   ]
  },
  {
   "cell_type": "code",
   "execution_count": 25,
   "metadata": {},
   "outputs": [
    {
     "data": {
      "text/plain": [
       "tensor([0.1074, 0.1114, 0.1100,  ..., 0.1316, 0.1220, 0.1267])"
      ]
     },
     "execution_count": 25,
     "metadata": {},
     "output_type": "execute_result"
    }
   ],
   "source": [
    "mnist_distance(stacked_threes,mean3)"
   ]
  },
  {
   "cell_type": "raw",
   "metadata": {},
   "source": [
    "On créer une fonction mathématique fléxible qui va nous permettre pour chaque image d'essayer de déterminer le label. \n",
    "L'idée ici va être de multiplier chaque pixel (niveau de gris) par un paramètre différent et d'additionner l'ensemble des résultat. Soit\n",
    "pixel0 x param0 + pixel1 x param1 + ...\n",
    "\n",
    "On pense que cette combinaison linéaire va permettre de reconnaitre un chiffre car le modèle va apparendre des paramètres très grands sur les pixels très probables pour un 3 et très négatifs pour les pixel imbrobables pour un trois. Ainsi la somme sera fortement supérieur à 0 si on a beaucoup de pixel probable pour un trois et inversement (très négatif si improbable). "
   ]
  },
  {
   "cell_type": "raw",
   "metadata": {},
   "source": [
    "On crée une fonction pour initialiser les 784 paramètres (chiffres entre -1 et 1)"
   ]
  },
  {
   "cell_type": "code",
   "execution_count": 26,
   "metadata": {},
   "outputs": [],
   "source": [
    "def init_params(size, std=1.0):\n",
    "    return (torch.randn(size)*std).requires_grad_()"
   ]
  },
  {
   "cell_type": "raw",
   "metadata": {},
   "source": [
    "On initialise une liste de 784 paramètre aléatoires ainsi qu'une constante (biais). Le biais permet de s'aligner plus facilement sur 0 (pas compris pourquoi). "
   ]
  },
  {
   "cell_type": "code",
   "execution_count": 27,
   "metadata": {},
   "outputs": [
    {
     "data": {
      "text/plain": [
       "(torch.Size([784, 1]), torch.Size([1]))"
      ]
     },
     "execution_count": 27,
     "metadata": {},
     "output_type": "execute_result"
    }
   ],
   "source": [
    "weights=init_params((28*28,1))\n",
    "bias= init_params(1)\n",
    "weights.shape,bias.shape"
   ]
  },
  {
   "cell_type": "raw",
   "metadata": {},
   "source": [
    "On créer la fonction de calcul du model. La multiplication s'effectue directement sur le tensor (tensor*tensor) grace à l'opérateur @. "
   ]
  },
  {
   "cell_type": "code",
   "execution_count": 28,
   "metadata": {},
   "outputs": [],
   "source": [
    "def linear_model(xb):\n",
    "    return xb@weights + bias"
   ]
  },
  {
   "cell_type": "raw",
   "metadata": {},
   "source": [
    "On créer la fonction de prédiction. Elle retourne un booléen qui indique si la prédiction réalisé par le modèle pour chaque élément est >0 ou <0. Cette fonction sera utilisée uniquement pour le calcul de la performance (résultat binaire) pour l'entrainement on utilisera une fonction de cout avec une notion de distance par rapport au résultat souhaité. "
   ]
  },
  {
   "cell_type": "code",
   "execution_count": 29,
   "metadata": {},
   "outputs": [],
   "source": [
    "def predict(xb):\n",
    "    return linear_model(xb) > 0"
   ]
  },
  {
   "cell_type": "raw",
   "metadata": {},
   "source": [
    "On utilise le jeux d'entrainement et on crée une première prédiction"
   ]
  },
  {
   "cell_type": "code",
   "execution_count": 30,
   "metadata": {},
   "outputs": [
    {
     "data": {
      "text/plain": [
       "(torch.Size([12396, 1]),\n",
       " tensor([[False],\n",
       "         [False],\n",
       "         [False],\n",
       "         ...,\n",
       "         [False],\n",
       "         [ True],\n",
       "         [False]]))"
      ]
     },
     "execution_count": 30,
     "metadata": {},
     "output_type": "execute_result"
    }
   ],
   "source": [
    "predictions = predict(train_x)\n",
    "predictions.shape,predictions"
   ]
  },
  {
   "cell_type": "raw",
   "metadata": {},
   "source": [
    "On va cherche maintenant à améliorer notre prédiction (pour le moment basé sur un jeux de paramètre initialisé aléatoirement). On va donc chercher à les ajuster pour améliorer la prédiction. Pour cela on va créer une fonction qui messure l'erreur de prédiction. \n",
    "On détermine pour chaque prédictions si elle est correcte en la comparant à notre tableau de label (3 ou pas 3). Puis on transforme le résultat en nombre pour obtenir un tableau de 0 et de 1 (1 pour chaque prédiction juste). "
   ]
  },
  {
   "cell_type": "code",
   "execution_count": 31,
   "metadata": {},
   "outputs": [],
   "source": [
    "def accuracy(activations, targets):\n",
    "    predictions = activations > 0\n",
    "    corrects = (predictions -- targets)\n",
    "    return corrects.float().mean()"
   ]
  },
  {
   "cell_type": "raw",
   "metadata": {},
   "source": [
    "Cette métrique ne peut pas être utilisé par le machine learning pour s'entraîner car le résultat est binaire (bon/pas bon). Nous allons chercher une méthode permettant de savoir si le changement nous a fait nous rapprocher d’un bon résultat même s’il est toujours mauvais. \n",
    "Pour cela nous allons créer une fonction de cout qui va utiliser la notion de distance (plus ou moins proche du bon résultat)."
   ]
  },
  {
   "cell_type": "raw",
   "metadata": {},
   "source": [
    "Cette fonction utilise la méthode mathématique sigmoid qui permet de projeter les valeurs entre 0 et 1. Ensuite la distances avec le bon résultat est 1-resultat lorsque le bon résultat est 1 et resultat-0 lorsque le bon résultat est 0. "
   ]
  },
  {
   "cell_type": "code",
   "execution_count": 89,
   "metadata": {},
   "outputs": [],
   "source": [
    "def mnist_loss(activations_01, targets):\n",
    "        activations_01 = activations_01.sigmoid()\n",
    "        distances = torch.where(targets==1,1-activations_01,activations_01)\n",
    "        return distances.mean()"
   ]
  },
  {
   "cell_type": "raw",
   "metadata": {},
   "source": [
    "Exemples: "
   ]
  },
  {
   "cell_type": "code",
   "execution_count": 52,
   "metadata": {},
   "outputs": [
    {
     "data": {
      "text/plain": [
       "(tensor([0.7109, 0.5987, 0.5498, 1.0000, 0.0000]), tensor(132.4600))"
      ]
     },
     "execution_count": 52,
     "metadata": {},
     "output_type": "execute_result"
    }
   ],
   "source": [
    "labels = tensor([1,0,1,0,1])\n",
    "activations_01 = tensor([0.9,0.4,0.2,100,-560])\n",
    "activations_01.sigmoid(),mnist_loss(activations_01,labels)"
   ]
  },
  {
   "cell_type": "raw",
   "metadata": {},
   "source": [
    "Nous allons mettre en place le principe de mini-batch afin de tester les paramètres et de pouvoir les ajuster pour entrainer le modèle par lot de x exemples plutot que sur l'ensenble du jeux d'entrainement afin d'optimiser le traitement et de bénéficier d'un plus grand nombre de \"pas\" d'ajustement. \n",
    "Pour cela on utilise la classe DataLoader.\n",
    "Exemple:"
   ]
  },
  {
   "cell_type": "code",
   "execution_count": 54,
   "metadata": {},
   "outputs": [
    {
     "data": {
      "text/plain": [
       "[tensor([ 4, 10,  1]), tensor([8, 5, 0]), tensor([7, 3, 2]), tensor([6])]"
      ]
     },
     "execution_count": 54,
     "metadata": {},
     "output_type": "execute_result"
    }
   ],
   "source": [
    "coll = tensor([1,2,3,4,5,6,7,8,0,10])\n",
    "dl = DataLoader(coll,batch_size=3,shuffle=True)\n",
    "list(dl)"
   ]
  },
  {
   "cell_type": "code",
   "execution_count": null,
   "metadata": {},
   "outputs": [],
   "source": [
    "Avec des couples valeur / label."
   ]
  },
  {
   "cell_type": "code",
   "execution_count": 57,
   "metadata": {},
   "outputs": [
    {
     "data": {
      "text/plain": [
       "((#26) [(0, 'a'),(1, 'b'),(2, 'c'),(3, 'd'),(4, 'e'),(5, 'f'),(6, 'g'),(7, 'h'),(8, 'i'),(9, 'j')...],\n",
       " [(tensor([ 5,  2, 15, 25, 22, 12]), ('f', 'c', 'p', 'z', 'w', 'm')),\n",
       "  (tensor([ 1,  6,  7, 11, 21, 17]), ('b', 'g', 'h', 'l', 'v', 'r')),\n",
       "  (tensor([ 4,  9, 13, 24, 16, 18]), ('e', 'j', 'n', 'y', 'q', 's')),\n",
       "  (tensor([ 0,  8, 14,  3, 23, 20]), ('a', 'i', 'o', 'd', 'x', 'u')),\n",
       "  (tensor([10, 19]), ('k', 't'))])"
      ]
     },
     "execution_count": 57,
     "metadata": {},
     "output_type": "execute_result"
    }
   ],
   "source": [
    "datasource = L(enumerate(string.ascii_lowercase))\n",
    "dl = DataLoader(datasource,batch_size=6,shuffle=True)\n",
    "datasource,list(dl)"
   ]
  },
  {
   "cell_type": "raw",
   "metadata": {},
   "source": [
    "Nous avons désormais toutes les données nécessaires à l'entrainement. "
   ]
  },
  {
   "cell_type": "raw",
   "metadata": {},
   "source": [
    "Les paramètres que nous initialisons: "
   ]
  },
  {
   "cell_type": "code",
   "execution_count": 91,
   "metadata": {},
   "outputs": [],
   "source": [
    "weights = init_params((28*28,1))\n",
    "bias = init_params(1)"
   ]
  },
  {
   "cell_type": "raw",
   "metadata": {},
   "source": [
    "Les tensors contenant les images (liste de pixel) et les labels attendus"
   ]
  },
  {
   "cell_type": "code",
   "execution_count": 63,
   "metadata": {},
   "outputs": [
    {
     "data": {
      "text/plain": [
       "(torch.Size([12396, 784]), torch.Size([12396, 1]))"
      ]
     },
     "execution_count": 63,
     "metadata": {},
     "output_type": "execute_result"
    }
   ],
   "source": [
    "train_x.shape,train_y.shape"
   ]
  },
  {
   "cell_type": "raw",
   "metadata": {},
   "source": [
    "On crée un dataset en utilisant la fonction python zip pour itérer sur les deux listes"
   ]
  },
  {
   "cell_type": "code",
   "execution_count": 64,
   "metadata": {},
   "outputs": [
    {
     "data": {
      "text/plain": [
       "(12396, torch.Size([784]), tensor([1]))"
      ]
     },
     "execution_count": 64,
     "metadata": {},
     "output_type": "execute_result"
    }
   ],
   "source": [
    "train_dataset = list(zip(train_x,train_y))\n",
    "x,y = train_dataset[0]\n",
    "len(train_dataset),x.shape,y"
   ]
  },
  {
   "cell_type": "raw",
   "metadata": {},
   "source": [
    "On créer nos mini-batch avec la classe DataLoader"
   ]
  },
  {
   "cell_type": "code",
   "execution_count": 71,
   "metadata": {},
   "outputs": [
    {
     "data": {
      "text/plain": [
       "(torch.Size([256, 784]), torch.Size([256, 1]))"
      ]
     },
     "execution_count": 71,
     "metadata": {},
     "output_type": "execute_result"
    }
   ],
   "source": [
    "train_dl = DataLoader(train_dataset,batch_size=256)\n",
    "xb,yb = first(train_dl)\n",
    "xb.shape,yb.shape"
   ]
  },
  {
   "cell_type": "raw",
   "metadata": {},
   "source": [
    "On calcul les activations grace à notre méthode linea_model qui appliquent l'ensemble des paramètres à notre model. \n",
    "On prend uniquement les 4 premiers pour l'exemple."
   ]
  },
  {
   "cell_type": "code",
   "execution_count": 94,
   "metadata": {},
   "outputs": [
    {
     "data": {
      "text/plain": [
       "tensor([[-3.8473],\n",
       "        [-0.4300],\n",
       "        [ 7.7864],\n",
       "        [ 5.2126]], grad_fn=<AddBackward0>)"
      ]
     },
     "execution_count": 94,
     "metadata": {},
     "output_type": "execute_result"
    }
   ],
   "source": [
    "xb,yb = first(train_dl)\n",
    "activations = linear_model(xb[:4])\n",
    "activations"
   ]
  },
  {
   "cell_type": "raw",
   "metadata": {},
   "source": [
    "On calcul notre erreur avec notre méthode mnist_loss définie ci-dessus (application sigmoid + renvoit de la moyenne des distances avec le résultat attendu. "
   ]
  },
  {
   "cell_type": "code",
   "execution_count": 97,
   "metadata": {},
   "outputs": [
    {
     "data": {
      "text/plain": [
       "tensor(0.3977, grad_fn=<MeanBackward0>)"
      ]
     },
     "execution_count": 97,
     "metadata": {},
     "output_type": "execute_result"
    }
   ],
   "source": [
    "loss = mnist_loss(activations,yb[:4])\n",
    "loss"
   ]
  },
  {
   "cell_type": "raw",
   "metadata": {},
   "source": [
    "On calcul le gradient"
   ]
  },
  {
   "cell_type": "code",
   "execution_count": 103,
   "metadata": {},
   "outputs": [
    {
     "data": {
      "text/plain": [
       "(torch.Size([784, 1]), tensor(-0.0095), tensor([-0.0663]))"
      ]
     },
     "execution_count": 103,
     "metadata": {},
     "output_type": "execute_result"
    }
   ],
   "source": [
    "loss.backward()\n",
    "weights.grad.shape,weights.grad.mean(),bias.grad"
   ]
  },
  {
   "cell_type": "code",
   "execution_count": null,
   "metadata": {},
   "outputs": [],
   "source": [
    "On rassemble le tout dans une fonction"
   ]
  },
  {
   "cell_type": "code",
   "execution_count": 104,
   "metadata": {},
   "outputs": [],
   "source": [
    "def calc_grad(xb, yb, model): \n",
    "    predictions = model(xb)\n",
    "    loss = mnist_loss(predictions, yb)\n",
    "    loss.backward()"
   ]
  },
  {
   "cell_type": "raw",
   "metadata": {},
   "source": [
    "On peut désormais créer une fonction d'entrainement d'une epoque"
   ]
  },
  {
   "cell_type": "code",
   "execution_count": null,
   "metadata": {},
   "outputs": [],
   "source": [
    "def train_epoch(model, lr, params)\n",
    "    # ON parcours le mini-batchs\n",
    "    for xb, yb in train_dl\n",
    "        calc_grad(xb,yb,model)\n",
    "        for p in params\n",
    "            p.data -= p.grad * lr # On modifie chaque paramètre en fonction du gradient et du learning rate défini\n",
    "            p.grad.zero_() # remise à zéros du gradient pour itération suivante. \n",
    "        "
   ]
  }
 ],
 "metadata": {
  "kernelspec": {
   "display_name": "Python 3",
   "language": "python",
   "name": "python3"
  },
  "language_info": {
   "codemirror_mode": {
    "name": "ipython",
    "version": 3
   },
   "file_extension": ".py",
   "mimetype": "text/x-python",
   "name": "python",
   "nbconvert_exporter": "python",
   "pygments_lexer": "ipython3",
   "version": "3.7.6"
  }
 },
 "nbformat": 4,
 "nbformat_minor": 4
}
